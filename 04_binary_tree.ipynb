{
 "cells": [
  {
   "cell_type": "code",
   "execution_count": null,
   "metadata": {},
   "outputs": [],
   "source": []
  },
  {
   "cell_type": "code",
   "execution_count": 1,
   "metadata": {},
   "outputs": [],
   "source": [
    "# binary tree basic"
   ]
  },
  {
   "cell_type": "code",
   "execution_count": 7,
   "metadata": {},
   "outputs": [],
   "source": [
    "class Node:\n",
    "    def __init__(self, key):\n",
    "        self.left = None\n",
    "        self.right = None\n",
    "        self.val = key\n",
    "\n",
    "def insert(root, key):\n",
    "    if root is None:\n",
    "        return Node(key)\n",
    "    else:\n",
    "        if root.val < key:\n",
    "            root.right = insert(root.right, key)\n",
    "        else:\n",
    "            root.left = insert(root.left, key)\n",
    "    return root\n",
    "\n",
    "def preorder(root):\n",
    "    if root:\n",
    "        print(root.val)\n",
    "        preorder(root.left)\n",
    "        preorder(root.right)\n",
    "\n",
    "# def postorder(root):\n",
    "\n",
    "#     if root:\n",
    "#         postorder(root.left)\n",
    "#         postorder(root.right)\n",
    "#         print(root.val)\n",
    "\n",
    "# def search(root, key):\n",
    "#     if root is None or root.val == key:\n",
    "#         return root\n",
    "#     if root.val < key:\n",
    "#         return search(root.right, key)\n",
    "#     return search(root.left, key)\n",
    "\n",
    "# def minValueNode(node):\n",
    "#     current = node\n",
    "#     while current.left is not None:\n",
    "#         current = current.left\n",
    "#     return current\n",
    "\n",
    "# def deleteNode(root, key):\n",
    "#     if root is None:\n",
    "#         return root\n",
    "#     if key < root.val:\n",
    "#         root.left = deleteNode(root.left, key)\n",
    "#     elif key > root.val:\n",
    "#         root.right = deleteNode(root.right, key)\n",
    "#     else:\n",
    "#         if root.left is None:\n",
    "#             return root.right\n",
    "#         elif root.right is None:\n",
    "#             return root.left\n",
    "#         root.val = minValueNode(root.right).val\n",
    "#         root.right = deleteNode(root.right, root.val)\n",
    "#     return root\n",
    "\n"
   ]
  },
  {
   "cell_type": "code",
   "execution_count": 12,
   "metadata": {},
   "outputs": [],
   "source": [
    "r = Node(1)\n",
    "r = insert(r, 2)\n",
    "r = insert(r, 3)\n",
    "r = insert(r, 4)\n",
    "r = insert(r, 5)"
   ]
  },
  {
   "cell_type": "code",
   "execution_count": 13,
   "metadata": {},
   "outputs": [
    {
     "name": "stdout",
     "output_type": "stream",
     "text": [
      "1\n",
      "2\n",
      "3\n",
      "4\n",
      "5\n"
     ]
    }
   ],
   "source": [
    "preorder(r)"
   ]
  },
  {
   "cell_type": "code",
   "execution_count": 4,
   "metadata": {},
   "outputs": [],
   "source": [
    "\n",
    "# r = insert(r, 20)\n",
    "# r = insert(r, 40)\n",
    "# r = insert(r, 70)\n",
    "# r = insert(r, 60)\n",
    "# r = insert(r, 80)\n",
    "\n",
    "# print(\"Inorder traversal:\")\n",
    "# inorder(r)\n",
    "# print(\"Preorder traversal:\")\n",
    "# preorder(r)\n",
    "# print(\"Postorder traversal:\")\n",
    "# postorder(r)\n",
    "\n",
    "# print(\"Search 40:\")\n",
    "# if search(r, 40):\n",
    "#     print(\"Found\")\n",
    "# else:\n",
    "#     print(\"Not found\")\n",
    "\n",
    "# print(\"Delete 20:\")\n",
    "# r = deleteNode(r, 20)\n",
    "# inorder(r)\n"
   ]
  },
  {
   "cell_type": "code",
   "execution_count": null,
   "metadata": {},
   "outputs": [],
   "source": []
  },
  {
   "cell_type": "code",
   "execution_count": null,
   "metadata": {},
   "outputs": [],
   "source": []
  },
  {
   "cell_type": "code",
   "execution_count": 14,
   "metadata": {},
   "outputs": [],
   "source": [
    "def factorial(n):\n",
    "    if n == 0:\n",
    "        return 1  # 기저 사례\n",
    "    else:\n",
    "        return n * factorial(n - 1)  # 재귀 호출"
   ]
  },
  {
   "cell_type": "code",
   "execution_count": 15,
   "metadata": {},
   "outputs": [
    {
     "data": {
      "text/plain": [
       "120"
      ]
     },
     "execution_count": 15,
     "metadata": {},
     "output_type": "execute_result"
    }
   ],
   "source": [
    "factorial(5)  # 120"
   ]
  },
  {
   "cell_type": "code",
   "execution_count": null,
   "metadata": {},
   "outputs": [],
   "source": []
  }
 ],
 "metadata": {
  "kernelspec": {
   "display_name": "venv",
   "language": "python",
   "name": "python3"
  },
  "language_info": {
   "codemirror_mode": {
    "name": "ipython",
    "version": 3
   },
   "file_extension": ".py",
   "mimetype": "text/x-python",
   "name": "python",
   "nbconvert_exporter": "python",
   "pygments_lexer": "ipython3",
   "version": "3.11.6"
  }
 },
 "nbformat": 4,
 "nbformat_minor": 2
}
